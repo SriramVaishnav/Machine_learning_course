{
 "cells": [
  {
   "cell_type": "code",
   "execution_count": 1,
   "id": "82b691c1-97e6-4003-9c3e-56580ad2e8eb",
   "metadata": {},
   "outputs": [],
   "source": [
    "import pandas as pd\n",
    "import numpy as np\n",
    "from sklearn.metrics import r2_score"
   ]
  },
  {
   "cell_type": "code",
   "execution_count": 2,
   "id": "6db74b56-abe1-4810-9d3b-83071291d874",
   "metadata": {},
   "outputs": [],
   "source": [
    "df=pd.read_csv(\"Advertising.csv\")"
   ]
  },
  {
   "cell_type": "code",
   "execution_count": 3,
   "id": "5b00ebff-fd84-46f4-9473-091e0cad979e",
   "metadata": {},
   "outputs": [
    {
     "name": "stdout",
     "output_type": "stream",
     "text": [
      "      TV  radio  newspaper  sales\n",
      "0  230.1   37.8       69.2   22.1\n",
      "1   44.5   39.3       45.1   10.4\n",
      "2   17.2   45.9       69.3    9.3\n",
      "3  151.5   41.3       58.5   18.5\n",
      "4  180.8   10.8       58.4   12.9\n",
      "5    8.7   48.9       75.0    7.2\n",
      "\n",
      "\n",
      "<class 'pandas.core.frame.DataFrame'>\n",
      "RangeIndex: 200 entries, 0 to 199\n",
      "Data columns (total 4 columns):\n",
      " #   Column     Non-Null Count  Dtype  \n",
      "---  ------     --------------  -----  \n",
      " 0   TV         200 non-null    float64\n",
      " 1   radio      200 non-null    float64\n",
      " 2   newspaper  200 non-null    float64\n",
      " 3   sales      200 non-null    float64\n",
      "dtypes: float64(4)\n",
      "memory usage: 6.4 KB\n",
      "None\n"
     ]
    }
   ],
   "source": [
    "print(df.head(6))\n",
    "print(\"\\n\")\n",
    "print(df.info())"
   ]
  },
  {
   "cell_type": "code",
   "execution_count": 4,
   "id": "6fa51e2c-2bbc-40cd-8a1c-9847a2cf33d9",
   "metadata": {},
   "outputs": [
    {
     "name": "stdout",
     "output_type": "stream",
     "text": [
      "2.994893030495321\n",
      "TV: 0.04458402011996433\n",
      "Radio: 0.04458402011996433\n",
      "NewsPaper: 0.04458402011996433\n"
     ]
    }
   ],
   "source": [
    "from sklearn.linear_model import LinearRegression\n",
    "from sklearn.model_selection import train_test_split\n",
    "# Split as x and y\n",
    "x=df.drop('sales',axis=1)\n",
    "y=df['sales']\n",
    "# split dataset into train and test\n",
    "x_train,x_test,y_train,y_test=train_test_split(x,y,test_size=0.2,random_state=0)\n",
    "lr1=LinearRegression()\n",
    "lr1.fit(x_train,y_train)\n",
    "# Print the coefficients and intercept\n",
    "print(lr1.intercept_)\n",
    "print(\"TV:\", lr1.coef_[0])\n",
    "print(\"Radio:\", lr1.coef_[0])\n",
    "print(\"NewsPaper:\", lr1.coef_[0])"
   ]
  },
  {
   "cell_type": "code",
   "execution_count": 5,
   "id": "761f982b-ce9a-47ff-96d5-db7e70816a61",
   "metadata": {},
   "outputs": [
    {
     "name": "stdout",
     "output_type": "stream",
     "text": [
      " Accuracy of the model is 86.01\n"
     ]
    }
   ],
   "source": [
    "y_pred = lr1.predict(x_test)\n",
    "# Printing Accuracy of model\n",
    "Accuracy=r2_score(y_test,y_pred)*100\n",
    "print(\" Accuracy of the model is %.2f\" %Accuracy)"
   ]
  },
  {
   "cell_type": "code",
   "execution_count": null,
   "id": "d2de1793-90d1-4d3a-8e0b-9c06e3ad21dc",
   "metadata": {},
   "outputs": [],
   "source": []
  },
  {
   "cell_type": "code",
   "execution_count": null,
   "id": "9b8294e2-6183-4c12-a02e-43a6b56abcf2",
   "metadata": {},
   "outputs": [],
   "source": []
  }
 ],
 "metadata": {
  "kernelspec": {
   "display_name": "Python 3 (ipykernel)",
   "language": "python",
   "name": "python3"
  },
  "language_info": {
   "codemirror_mode": {
    "name": "ipython",
    "version": 3
   },
   "file_extension": ".py",
   "mimetype": "text/x-python",
   "name": "python",
   "nbconvert_exporter": "python",
   "pygments_lexer": "ipython3",
   "version": "3.12.4"
  }
 },
 "nbformat": 4,
 "nbformat_minor": 5
}
